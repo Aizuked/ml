{
 "cells": [
  {
   "cell_type": "markdown",
   "source": [
    "# Лабораторная работа №5. Алгоритмы кластеризации данных\n",
    "## Общее задание\n",
    "\n",
    "Перед выполнением лабораторной работы необходимо загрузить набор данных в соответствии с вариантом на диск.\n",
    "1. Произвести масштабирование признаков (scaling).\n",
    "2. С использованием библиотеки [scikit-learn](http://scikit-learn.org/stable/) написать программу с использованием алгоритмов кластеризации данных, позволяющую разделить исходную выборку на классы, соответствующие предложенной вариантом задаче (http://scikit-learn.org/stable/modules/clustering.html).\n",
    "3. Провести эксперименты и определить наилучший алгоритм кластеризации, параметры алгоритма. Необходимо использовать не менее 3-х алгоритмов.\n",
    "Данные экспериментов необходимо представить в отчете (графики, ход проведения эксперимента, выводы).\n",
    "\n",
    "## Варианты\n",
    "Массивы данных берутся из [UCI Machine Learning Repository](https://archive.ics.uci.edu/ml/datasets.php)\n",
    "\n",
    "Вариант определяется набором данных, который можно загрузить по ссылке выше:\n",
    "1. Sponge\n",
    "2. Water Treatment Plant\n",
    "3. Synthetic Control Chart Time Series\n",
    "4. Character Trajectories\n",
    "5. Plants\n",
    "6. Libras Movement\n",
    "7. KEGG Metabolic Relation Network (Directed)\n",
    "8. SMS Spam Collection\n",
    "9. seeds\n",
    "10. Human Activity Recognition Using Smartphones\n",
    "11. User Knowledge Modeling\n",
    "12. NYSK\n",
    "13. Activities of Daily Living (ADLs) Recognition Using Binary Sensors\n",
    "14. Dresses_Attribute_Sales\n",
    "15. Wholesale customers\n",
    "16. StoneFlakes\n",
    "17. Gesture Phase Segmentation\n",
    "18. AAAI 2014 Accepted Papers\n",
    "19. Dow Jones Index\n",
    "20. AAAI 2013 Accepted Papers\n",
    "21. wiki4HE\n",
    "22. Folio\n",
    "23. Mice Protein Expression\n",
    "24. Improved Spiral Test Using Digitized Graphics Tablet for Monitoring Parkinson’s Disease\n"
   ],
   "metadata": {
    "collapsed": false
   },
   "id": "475094b9078ed26e"
  },
  {
   "cell_type": "code",
   "execution_count": 30,
   "id": "initial_id",
   "metadata": {
    "collapsed": true,
    "ExecuteTime": {
     "end_time": "2023-12-13T05:59:28.308454400Z",
     "start_time": "2023-12-13T05:59:28.260836900Z"
    }
   },
   "outputs": [
    {
     "name": "stdout",
     "output_type": "stream",
     "text": [
      "KMeans: 0.1956900432920296\n",
      "AffinityPropagation: 0.2577976499023206\n",
      "DBSCAN: 0.31321536409755335\n"
     ]
    },
    {
     "name": "stderr",
     "output_type": "stream",
     "text": [
      "C:\\Users\\aizyk\\AppData\\Roaming\\Python\\Python312\\site-packages\\sklearn\\cluster\\_kmeans.py:1416: FutureWarning: The default value of `n_init` will change from 10 to 'auto' in 1.4. Set the value of `n_init` explicitly to suppress the warning\n",
      "  super()._check_params_vs_input(X, default_n_init=10)\n"
     ]
    }
   ],
   "source": [
    "\n",
    "import pandas as pd\n",
    "from sklearn import preprocessing\n",
    "from sklearn.cluster import KMeans, DBSCAN, AffinityPropagation\n",
    "from sklearn.metrics import silhouette_score\n",
    "from sklearn.preprocessing import StandardScaler\n",
    "\n",
    "# Загрузка данных\n",
    "data = pd.read_csv(r'C:\\Users\\aizyk\\PycharmProjects\\ml\\ml_course_ru\\assignments\\Sponge\\sponge.data', delim_whitespace=True)\n",
    "\n",
    "# Перевод строчных данных в числовые\n",
    "le = preprocessing.LabelEncoder()\n",
    "data = data.apply(le.fit_transform)\n",
    "\n",
    "# Масштабирование признаков\n",
    "scaler = StandardScaler()\n",
    "scaled_data = scaler.fit_transform(data)\n",
    "\n",
    "# Кластеризация\n",
    "kmeans = KMeans(n_clusters=3, random_state=50)\n",
    "kmeans.fit(scaled_data)\n",
    "print(f\"KMeans: {silhouette_score(scaled_data, kmeans.labels_)}\")\n",
    "\n",
    "af = AffinityPropagation(preference=-30, random_state=50)\n",
    "af.fit(scaled_data)\n",
    "print(f\"AffinityPropagation: {silhouette_score(scaled_data, af.labels_)}\")\n",
    "\n",
    "dbscan = DBSCAN(eps=10.164)\n",
    "dbscan.fit(scaled_data)\n",
    "print(f\"DBSCAN: {silhouette_score(scaled_data, dbscan.labels_)}\")\n"
   ]
  },
  {
   "cell_type": "code",
   "execution_count": null,
   "outputs": [],
   "source": [],
   "metadata": {
    "collapsed": false
   },
   "id": "baa376f751ddf9db"
  }
 ],
 "metadata": {
  "kernelspec": {
   "display_name": "Python 3",
   "language": "python",
   "name": "python3"
  },
  "language_info": {
   "codemirror_mode": {
    "name": "ipython",
    "version": 2
   },
   "file_extension": ".py",
   "mimetype": "text/x-python",
   "name": "python",
   "nbconvert_exporter": "python",
   "pygments_lexer": "ipython2",
   "version": "2.7.6"
  }
 },
 "nbformat": 4,
 "nbformat_minor": 5
}

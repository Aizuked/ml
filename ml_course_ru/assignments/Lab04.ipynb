{
 "cells": [
  {
   "cell_type": "markdown",
   "source": [
    "# Лабораторная работа №4. Основы нейронных сетей\n",
    "## Общее задание\n",
    "\n",
    "Перед выполнением лабораторной работы необходимо загрузить набор данных в соответствии с вариантом на диск\n",
    "1. Написать программу, которая разделяет исходную выборку на обучающую и тестовую (training set, validation set, test set), если такое разделение не предусмотрено предложенным набором данных.\n",
    "2. Произвести масштабирование признаков (scaling).\n",
    "3. С использованием библиотеки [scikit-learn](http://scikit-learn.org/stable/) обучить 2 модели нейронной сети (Perceptron и MLPClassifier) по обучающей выборке. Перед обучением необходимо осуществить масштабирование признаков. \n",
    "[Пример MLPClassifier](http://scikit-learn.org/stable/modules/generated/sklearn.neural_network.MLPClassifier.html)\n",
    "Пример и описание [Perceptron](http://scikit-learn.org/stable/modules/generated/sklearn.linear_model.Perceptron.html)\n",
    "4. Проверить точность модели по тестовой выборке.\n",
    "5. Провести эксперименты и определить наилучшие параметры коэффициента обучения, параметра регуляризации, функции оптимизации.\n",
    "Данные экспериментов необходимо представить в отчете (графики, ход проведения эксперимента, выводы).\n",
    "\n",
    "## Варианты\n",
    "Массивы данных берутся из [UCI Machine Learning Repository](https://archive.ics.uci.edu/ml/datasets.php)\n",
    "\n",
    "Вариант определяется набором данных, который можно загрузить по ссылке выше:\n",
    "1. Abalone\n",
    "2. Adult\n",
    "3. Artificial Characters\n",
    "4. ser Knowledge Modeling Data (Students' Knowledge Levels on DC Electrical Machines)\n",
    "5. EEG Eye State\n",
    "6. seismic-bumps\n",
    "7. banknote authentication\n",
    "8. Weight Lifting Exercises monitored with Inertial Measurement Units\n",
    "9. REALDISP Activity Recognition Dataset\n",
    "10. mage Segmentation\n",
    "11. ISOLET\n",
    "12. sEMG for Basic Hand movements\n",
    "13. Letter Recognition\n",
    "14. Dataset for Sensorless Drive Diagnosis\n",
    "15. Phishing Websites\n",
    "16. Multiple Features\n",
    "17. Diabetic Retinopathy Debrecen Data Set\n",
    "18. Page Blocks Classification\n",
    "19. Optical Recognition of Handwritten Digits\n",
    "20. Pen-Based Recognition of Handwritten Digits\n",
    "21. Smartphone-Based Recognition of Human Activities and Postural Transitions\n",
    "22. Indoor User Movement Prediction from RSS data\n",
    "23. Spambase"
   ],
   "metadata": {
    "collapsed": false
   },
   "id": "6e87e1aa3b613dcb"
  },
  {
   "cell_type": "code",
   "execution_count": 20,
   "id": "initial_id",
   "metadata": {
    "collapsed": true,
    "ExecuteTime": {
     "end_time": "2023-12-13T07:08:11.821865600Z",
     "start_time": "2023-12-13T07:07:59.054180200Z"
    }
   },
   "outputs": [
    {
     "name": "stdout",
     "output_type": "stream",
     "text": [
      "Точность Perceptron:  0.5119617224880383\n",
      "Точность MLPClassifier:  0.5155502392344498\n"
     ]
    },
    {
     "name": "stderr",
     "output_type": "stream",
     "text": [
      "C:\\Users\\aizyk\\AppData\\Roaming\\Python\\Python312\\site-packages\\sklearn\\neural_network\\_multilayer_perceptron.py:691: ConvergenceWarning: Stochastic Optimizer: Maximum iterations (200) reached and the optimization hasn't converged yet.\n",
      "  warnings.warn(\n"
     ]
    }
   ],
   "source": [
    "import pandas as pd\n",
    "from sklearn.linear_model import Perceptron\n",
    "from sklearn.metrics import accuracy_score\n",
    "from sklearn.model_selection import GridSearchCV\n",
    "from sklearn.model_selection import train_test_split\n",
    "from sklearn.neural_network import MLPClassifier\n",
    "from sklearn.preprocessing import StandardScaler\n",
    "\n",
    "# Чтение данных\n",
    "data = pd.read_csv(r'C:\\Users\\aizyk\\PycharmProjects\\ml\\ml_course_ru\\assignments\\Abalone\\data.txt', delim_whitespace=True)\n",
    "\n",
    "X = data.drop('Sex', axis=1)\n",
    "y = data['Sex']\n",
    "\n",
    "# Разделение данных на обучающую и тестовую выборки\n",
    "X_train, X_test, y_train, y_test = train_test_split(X, y, test_size=0.2, random_state=50)\n",
    "\n",
    "# Масштабирование признаков\n",
    "scaler = StandardScaler()\n",
    "X_train_scaled = scaler.fit_transform(X_train)\n",
    "X_test_scaled = scaler.transform(X_test)\n",
    "\n",
    "# Обучение моделей\n",
    "perceptron = Perceptron(eta0=0.1, random_state=50)\n",
    "mlp = MLPClassifier(hidden_layer_sizes=(256,128,64), random_state=50)\n",
    "\n",
    "perceptron.fit(X_train_scaled, y_train)\n",
    "mlp.fit(X_train_scaled, y_train)\n",
    "\n",
    "# Проверка точности моделей\n",
    "y_pred_perceptron = perceptron.predict(X_test_scaled)\n",
    "y_pred_mlp = mlp.predict(X_test_scaled)\n",
    "\n",
    "print('Точность Perceptron: ', accuracy_score(y_test, y_pred_perceptron))\n",
    "print('Точность MLPClassifier: ', accuracy_score(y_test, y_pred_mlp))\n"
   ]
  },
  {
   "cell_type": "markdown",
   "source": [],
   "metadata": {
    "collapsed": false
   },
   "id": "49f3aa2fd28f1225"
  }
 ],
 "metadata": {
  "kernelspec": {
   "display_name": "Python 3",
   "language": "python",
   "name": "python3"
  },
  "language_info": {
   "codemirror_mode": {
    "name": "ipython",
    "version": 2
   },
   "file_extension": ".py",
   "mimetype": "text/x-python",
   "name": "python",
   "nbconvert_exporter": "python",
   "pygments_lexer": "ipython2",
   "version": "2.7.6"
  }
 },
 "nbformat": 4,
 "nbformat_minor": 5
}
